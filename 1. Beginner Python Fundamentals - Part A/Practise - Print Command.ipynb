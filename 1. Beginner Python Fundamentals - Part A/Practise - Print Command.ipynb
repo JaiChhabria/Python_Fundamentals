{
 "cells": [
  {
   "cell_type": "code",
   "execution_count": 1,
   "id": "b89ccca6",
   "metadata": {},
   "outputs": [],
   "source": [
    "x = 'Welcome to Python Course'"
   ]
  },
  {
   "cell_type": "code",
   "execution_count": 2,
   "id": "38d4b0f0",
   "metadata": {},
   "outputs": [
    {
     "data": {
      "text/plain": [
       "'Welcome to Python Course'"
      ]
     },
     "execution_count": 2,
     "metadata": {},
     "output_type": "execute_result"
    }
   ],
   "source": [
    "x"
   ]
  },
  {
   "cell_type": "code",
   "execution_count": 3,
   "id": "e6d7dc6c",
   "metadata": {},
   "outputs": [
    {
     "data": {
      "text/plain": [
       "str"
      ]
     },
     "execution_count": 3,
     "metadata": {},
     "output_type": "execute_result"
    }
   ],
   "source": [
    "type(x)"
   ]
  },
  {
   "cell_type": "code",
   "execution_count": 4,
   "id": "c709dfe4",
   "metadata": {},
   "outputs": [
    {
     "name": "stdout",
     "output_type": "stream",
     "text": [
      "Welcome to Python Course\n"
     ]
    }
   ],
   "source": [
    "print(x)"
   ]
  },
  {
   "cell_type": "code",
   "execution_count": 5,
   "id": "5d09c4a4",
   "metadata": {},
   "outputs": [],
   "source": [
    "# String format method"
   ]
  },
  {
   "cell_type": "code",
   "execution_count": 6,
   "id": "c0ddd961",
   "metadata": {},
   "outputs": [],
   "source": [
    "name = 'Jai'"
   ]
  },
  {
   "cell_type": "code",
   "execution_count": 7,
   "id": "c320b0f9",
   "metadata": {},
   "outputs": [
    {
     "data": {
      "text/plain": [
       "'Jai'"
      ]
     },
     "execution_count": 7,
     "metadata": {},
     "output_type": "execute_result"
    }
   ],
   "source": [
    "name"
   ]
  },
  {
   "cell_type": "code",
   "execution_count": 8,
   "id": "8d154e46",
   "metadata": {},
   "outputs": [
    {
     "name": "stdout",
     "output_type": "stream",
     "text": [
      "Welcome Jai to this Python Course\n"
     ]
    }
   ],
   "source": [
    "print('Welcome {} to this Python Course'.format(name))"
   ]
  },
  {
   "cell_type": "code",
   "execution_count": 9,
   "id": "73c8dd0c",
   "metadata": {},
   "outputs": [
    {
     "name": "stdout",
     "output_type": "stream",
     "text": [
      "My name is Jai and I am 40 years old\n"
     ]
    }
   ],
   "source": [
    "print('My name is {} and I am {} years old'.format(name,40))"
   ]
  },
  {
   "cell_type": "code",
   "execution_count": 10,
   "id": "d35a7eb9",
   "metadata": {},
   "outputs": [
    {
     "name": "stdout",
     "output_type": "stream",
     "text": [
      "The value of pi is 3.14\n"
     ]
    }
   ],
   "source": [
    "print('The value of pi is {}'.format(3.14))"
   ]
  },
  {
   "cell_type": "markdown",
   "id": "4429c776",
   "metadata": {},
   "source": [
    "## Get User Input"
   ]
  },
  {
   "cell_type": "code",
   "execution_count": 11,
   "id": "4a1cd01b",
   "metadata": {},
   "outputs": [
    {
     "name": "stdout",
     "output_type": "stream",
     "text": [
      "What's your name?Jai\n"
     ]
    }
   ],
   "source": [
    "name = input(\"What's your name?\")"
   ]
  },
  {
   "cell_type": "code",
   "execution_count": 12,
   "id": "448412e3",
   "metadata": {},
   "outputs": [
    {
     "data": {
      "text/plain": [
       "'Jai'"
      ]
     },
     "execution_count": 12,
     "metadata": {},
     "output_type": "execute_result"
    }
   ],
   "source": [
    "name"
   ]
  },
  {
   "cell_type": "code",
   "execution_count": 14,
   "id": "769fd739",
   "metadata": {},
   "outputs": [
    {
     "name": "stdout",
     "output_type": "stream",
     "text": [
      "Enter your name: Jai\n",
      "Enter your age: 40\n",
      "Enter your address: Pune\n",
      "Your name is Jai, you are 40 years old, you live at Pune\n"
     ]
    }
   ],
   "source": [
    "name = input(\"Enter your name: \")\n",
    "age = input(\"Enter your age: \")\n",
    "address = input(\"Enter your address: \")\n",
    "print(\"Your name is {}, you are {} years old, you live at {}\".format(name,age,address))"
   ]
  },
  {
   "cell_type": "markdown",
   "id": "de1c89e6",
   "metadata": {},
   "source": [
    "a = input(\"Enter a number: \")\n",
    "b = input(\"Enter a number: \")\n",
    "print(\"The sum of {} and {} is {}\".format(a,b,sum(a+b)))"
   ]
  },
  {
   "cell_type": "code",
   "execution_count": 18,
   "id": "a7963c1c",
   "metadata": {},
   "outputs": [
    {
     "name": "stdout",
     "output_type": "stream",
     "text": [
      "Enter a number: 5\n",
      "Enter a number: 10\n",
      "The sum of 5 and 10 is 15\n"
     ]
    }
   ],
   "source": [
    "a = input(\"Enter a number: \")\n",
    "a_int = int(a)\n",
    "b = input(\"Enter a number: \")\n",
    "b_int = int(b)\n",
    "c = a_int +b_int \n",
    "print(\"The sum of {} and {} is {}\".format(a,b,c))"
   ]
  },
  {
   "cell_type": "code",
   "execution_count": null,
   "id": "4fdc02e5",
   "metadata": {},
   "outputs": [],
   "source": []
  }
 ],
 "metadata": {
  "kernelspec": {
   "display_name": "Python 3 (ipykernel)",
   "language": "python",
   "name": "python3"
  },
  "language_info": {
   "codemirror_mode": {
    "name": "ipython",
    "version": 3
   },
   "file_extension": ".py",
   "mimetype": "text/x-python",
   "name": "python",
   "nbconvert_exporter": "python",
   "pygments_lexer": "ipython3",
   "version": "3.9.13"
  }
 },
 "nbformat": 4,
 "nbformat_minor": 5
}
